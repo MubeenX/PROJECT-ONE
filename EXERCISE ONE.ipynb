{
 "cells": [
  {
   "cell_type": "code",
   "execution_count": 29,
   "metadata": {},
   "outputs": [
    {
     "name": "stdout",
     "output_type": "stream",
     "text": [
      "ENTER RADIUS OF THE CIRCLE:98.999\n",
      "98.999\n",
      "30774.518283139998\n"
     ]
    }
   ],
   "source": [
    "num1 = float(input( \"ENTER RADIUS OF THE CIRCLE:\" ))\n",
    "sum_ = 3.14 * num1 * num1 \n",
    "print(num1)\n",
    "print(sum_)"
   ]
  },
  {
   "cell_type": "code",
   "execution_count": 30,
   "metadata": {},
   "outputs": [
    {
     "name": "stdout",
     "output_type": "stream",
     "text": [
      "YOUR NAME:mubeen\n",
      "YOUR BIRTH YEAR: 2002\n",
      "2102\n"
     ]
    }
   ],
   "source": [
    "name1 = input( \"YOUR NAME:\" )\n",
    "age1 = int(input(\"YOUR BIRTH YEAR: \"))\n",
    "age2 = 100\n",
    "op = age1 + 100\n",
    "print(op)\n",
    "\n",
    "\n"
   ]
  },
  {
   "cell_type": "code",
   "execution_count": 32,
   "metadata": {},
   "outputs": [
    {
     "name": "stdout",
     "output_type": "stream",
     "text": [
      "ENTER YOUR AGE17\n",
      "you can't see this video\n",
      "ILLEGAL\n"
     ]
    }
   ],
   "source": [
    "age = int(input(\"ENTER YOUR AGE\"))\n",
    "if age >= 18:\n",
    "    print(\"you can see this video\")\n",
    "    print(\"LEGAL\")\n",
    "if age <=17:\n",
    "    print(\"you can't see this video\")\n",
    "    print(\"ILLEGAL\")"
   ]
  },
  {
   "cell_type": "code",
   "execution_count": 16,
   "metadata": {},
   "outputs": [
    {
     "name": "stdout",
     "output_type": "stream",
     "text": [
      "ENTER YOUR AGE17\n",
      "you can't see this video\n",
      "ILLEGAL\n"
     ]
    }
   ],
   "source": [
    "age = int(input(\"ENTER YOUR AGE\"))\n",
    "if age >= 18:\n",
    "    print(\"you can see this video\")\n",
    "    print(\"LEGAL\")\n",
    "else:\n",
    "    print(\"you can't see this video\")\n",
    "    print(\"ILLEGAL\")\n",
    "    "
   ]
  },
  {
   "cell_type": "code",
   "execution_count": 19,
   "metadata": {},
   "outputs": [
    {
     "name": "stdout",
     "output_type": "stream",
     "text": [
      "ENTER PHYSICS MARKS:78\n",
      "ENTER MATHS MARKS:79\n",
      "ENTER EMGLISH MARKS:90\n",
      "ENTER ISLAMIYAT MARKS:80\n",
      "ENTER URDU MARKS:70\n",
      "OBTAINED MARKS: 397.0\n",
      "PERCENTAGE: 79.4\n"
     ]
    }
   ],
   "source": [
    "phy = float(input(\"ENTER PHYSICS MARKS:\"))\n",
    "maths = float(input(\"ENTER MATHS MARKS:\"))\n",
    "eng = float(input(\"ENTER EMGLISH MARKS:\"))\n",
    "isl = float(input(\"ENTER ISLAMIYAT MARKS:\"))\n",
    "urdu = float(input(\"ENTER URDU MARKS:\")) \n",
    "obt_marks = phy + maths + eng + urdu + isl\n",
    "total = 500\n",
    "percentage = (obt_marks * 100)/500\n",
    "print(\"OBTAINED MARKS:\", obt_marks)\n",
    "print(\"PERCENTAGE:\", percentage)                   "
   ]
  },
  {
   "cell_type": "code",
   "execution_count": 20,
   "metadata": {},
   "outputs": [
    {
     "name": "stdout",
     "output_type": "stream",
     "text": [
      "A\n"
     ]
    }
   ],
   "source": [
    "if percentage >= 80 and percentage <= 100:\n",
    "    print('A+')\n",
    "     \n",
    "elif percentage >=70 and percentage < 80:\n",
    "    print('A')\n",
    "elif percentage >=60 and percentage < 70:\n",
    "    print(\"B\")\n",
    "else:\n",
    "    print(\"GHAR JAO\")\n",
    "    "
   ]
  },
  {
   "cell_type": "code",
   "execution_count": 34,
   "metadata": {},
   "outputs": [
    {
     "name": "stdout",
     "output_type": "stream",
     "text": [
      "ALIEN COLOURgreen\n",
      "CONGRATS BERO! YOU JUST EARNED 5 POINTS\n"
     ]
    }
   ],
   "source": [
    "alien_colour = input(\"ALIEN COLOUR\")\n",
    "alien_colour = alien_colour.lower()\n",
    "if alien_colour == \"green\": \n",
    "    print(\"CONGRATS BERO! YOU JUST EARNED 5 POINTS\")\n",
    "elif alien_colour == \"blue\":\n",
    "    print(\"CONGRATS BERO! YOU JUST EARNED 10 POINTS\")\n",
    "elif alien_colour == \"yellow\":\n",
    "    print(\"congrats bero! you just earned 10 points\")\n",
    "else:\n",
    "    print(\"FU!\")"
   ]
  },
  {
   "cell_type": "code",
   "execution_count": null,
   "metadata": {},
   "outputs": [],
   "source": []
  }
 ],
 "metadata": {
  "kernelspec": {
   "display_name": "Python 3",
   "language": "python",
   "name": "python3"
  },
  "language_info": {
   "codemirror_mode": {
    "name": "ipython",
    "version": 3
   },
   "file_extension": ".py",
   "mimetype": "text/x-python",
   "name": "python",
   "nbconvert_exporter": "python",
   "pygments_lexer": "ipython3",
   "version": "3.7.4"
  }
 },
 "nbformat": 4,
 "nbformat_minor": 2
}
