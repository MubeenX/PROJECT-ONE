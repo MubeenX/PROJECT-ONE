{
 "cells": [
  {
   "cell_type": "code",
   "execution_count": 1,
   "metadata": {},
   "outputs": [],
   "source": [
    "Subject = \"***BIO DATA***\""
   ]
  },
  {
   "cell_type": "code",
   "execution_count": 2,
   "metadata": {},
   "outputs": [],
   "source": [
    "name = \"MUHAMMAD MUBEEN ANWAR\""
   ]
  },
  {
   "cell_type": "code",
   "execution_count": 3,
   "metadata": {},
   "outputs": [],
   "source": [
    "age = 17"
   ]
  },
  {
   "cell_type": "code",
   "execution_count": 4,
   "metadata": {},
   "outputs": [],
   "source": [
    "edu = \"INTERMEDIATE YEAR XII\""
   ]
  },
  {
   "cell_type": "code",
   "execution_count": 5,
   "metadata": {},
   "outputs": [],
   "source": [
    "sports = \"FOOTBALL\""
   ]
  },
  {
   "cell_type": "code",
   "execution_count": 6,
   "metadata": {},
   "outputs": [],
   "source": [
    "place = \"GULSHAN E MAYMAR\" "
   ]
  },
  {
   "cell_type": "code",
   "execution_count": 9,
   "metadata": {},
   "outputs": [],
   "source": [
    "c_o_s = \"KARACHI,PAKISTAN\"\n"
   ]
  },
  {
   "cell_type": "code",
   "execution_count": 10,
   "metadata": {},
   "outputs": [],
   "source": [
    "gender = \"MALE\""
   ]
  },
  {
   "cell_type": "code",
   "execution_count": 11,
   "metadata": {},
   "outputs": [],
   "source": [
    "colg = \"ADAMJEE GOVT. SCIENCE COLLEGE\""
   ]
  },
  {
   "cell_type": "code",
   "execution_count": 12,
   "metadata": {},
   "outputs": [],
   "source": [
    "prof = \"STUDENT\""
   ]
  },
  {
   "cell_type": "code",
   "execution_count": 13,
   "metadata": {},
   "outputs": [],
   "source": [
    "group = \"PRE-ENGINEERING\""
   ]
  },
  {
   "cell_type": "code",
   "execution_count": 14,
   "metadata": {},
   "outputs": [],
   "source": [
    "email = \"mohammadmubeencr7@gmail.com\""
   ]
  },
  {
   "cell_type": "code",
   "execution_count": 15,
   "metadata": {},
   "outputs": [],
   "source": [
    "coarse_rn = \"A.I FOR EVERYONE FROM SSUET\""
   ]
  },
  {
   "cell_type": "code",
   "execution_count": 16,
   "metadata": {},
   "outputs": [],
   "source": [
    "ending = \"***FINISHED!***\""
   ]
  },
  {
   "cell_type": "code",
   "execution_count": 19,
   "metadata": {},
   "outputs": [
    {
     "name": "stdout",
     "output_type": "stream",
     "text": [
      "***BIO DATA*** \n",
      "\n",
      "\n",
      "\n",
      "NAME: MUHAMMAD MUBEEN ANWAR\n",
      "\n",
      "\n",
      "AGE: 17\n",
      "\n",
      "\n",
      "GENDER: MALE\n",
      "\n",
      "\n",
      "ADDRESS: GULSHAN E MAYMAR\n",
      "\n",
      "\n",
      "COUNTRY OF STAY: KARACHI,PAKISTAN\n",
      "\n",
      "\n",
      "PROFESSION: STUDENT\n",
      "\n",
      "\n",
      "EDUCATION: INTERMEDIATE YEAR XII\n",
      "\n",
      "\n",
      "GROUP: PRE-ENGINEERING\n",
      "\n",
      "\n",
      "COLLEGE: ADAMJEE GOVT. SCIENCE COLLEGE\n",
      "\n",
      "\n",
      "SPORT: FOOTBALL\n",
      "\n",
      "\n",
      "COARSE: A.I FOR EVERYONE FROM SSUET\n",
      "\n",
      "\n",
      "EMAIL: mohammadmubeencr7@gmail.com\n",
      "\n",
      "\n",
      "\n",
      "\n",
      "***FINISHED!***\n"
     ]
    }
   ],
   "source": [
    "print(Subject, \"\\n\")\n",
    "print(\"\\n\")\n",
    "print(\"NAME:\", name)\n",
    "print(\"\\n\")\n",
    "print(\"AGE:\", age)\n",
    "print(\"\\n\")\n",
    "print(\"GENDER:\", gender)\n",
    "print(\"\\n\")\n",
    "print(\"ADDRESS:\", place)\n",
    "print(\"\\n\")\n",
    "print(\"COUNTRY OF STAY:\", c_o_s)\n",
    "print(\"\\n\")\n",
    "print(\"PROFESSION:\", prof)\n",
    "print(\"\\n\")\n",
    "print(\"EDUCATION:\", edu)\n",
    "print(\"\\n\")\n",
    "print(\"GROUP:\", group)\n",
    "print(\"\\n\")\n",
    "print(\"COLLEGE:\", colg)\n",
    "print(\"\\n\")\n",
    "print(\"SPORT:\", sports)\n",
    "print(\"\\n\")\n",
    "print(\"COARSE:\", coarse_rn)\n",
    "print(\"\\n\")\n",
    "print(\"EMAIL:\", email)\n",
    "print(\"\\n\")\n",
    "print(\"\\n\")\n",
    "print(ending)\n"
   ]
  },
  {
   "cell_type": "code",
   "execution_count": null,
   "metadata": {},
   "outputs": [],
   "source": []
  }
 ],
 "metadata": {
  "kernelspec": {
   "display_name": "Python 3",
   "language": "python",
   "name": "python3"
  },
  "language_info": {
   "codemirror_mode": {
    "name": "ipython",
    "version": 3
   },
   "file_extension": ".py",
   "mimetype": "text/x-python",
   "name": "python",
   "nbconvert_exporter": "python",
   "pygments_lexer": "ipython3",
   "version": "3.7.4"
  }
 },
 "nbformat": 4,
 "nbformat_minor": 2
}
