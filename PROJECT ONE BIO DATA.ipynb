{
 "cells": [
  {
   "cell_type": "code",
   "execution_count": 11,
   "metadata": {},
   "outputs": [],
   "source": [
    "X = \"BIO DATA:\""
   ]
  },
  {
   "cell_type": "code",
   "execution_count": 3,
   "metadata": {},
   "outputs": [],
   "source": [
    "N = 'MUHAMMAD MUBEEN ANWAR'"
   ]
  },
  {
   "cell_type": "code",
   "execution_count": 4,
   "metadata": {},
   "outputs": [],
   "source": [
    "F = 'MUHAMMAD RIZWAN ALI'"
   ]
  },
  {
   "cell_type": "code",
   "execution_count": 5,
   "metadata": {},
   "outputs": [],
   "source": [
    "G = 'MALE'\n"
   ]
  },
  {
   "cell_type": "code",
   "execution_count": 6,
   "metadata": {},
   "outputs": [],
   "source": [
    "A = 17"
   ]
  },
  {
   "cell_type": "code",
   "execution_count": 7,
   "metadata": {},
   "outputs": [],
   "source": [
    "C = 'KARACHI,PAKISTAN'\n"
   ]
  },
  {
   "cell_type": "code",
   "execution_count": 8,
   "metadata": {},
   "outputs": [],
   "source": [
    "L = 'GULSHAN E MAYMAR'"
   ]
  },
  {
   "cell_type": "code",
   "execution_count": 9,
   "metadata": {},
   "outputs": [],
   "source": [
    "O = 'NAHI BTARAHA XD'"
   ]
  },
  {
   "cell_type": "code",
   "execution_count": 12,
   "metadata": {},
   "outputs": [
    {
     "name": "stdout",
     "output_type": "stream",
     "text": [
      "BIO DATA:\n",
      "NAME: MUHAMMAD MUBEEN ANWAR\n",
      "FATHER_NAME: MUHAMMAD RIZWAN ALI\n",
      "AGE: 17\n",
      "GENDER: MALE\n",
      "ADDRESS: GULSHAN E MAYMAR\n",
      "CITY_OF_STAY: KARACHI,PAKISTAN\n",
      "CONTACT_NUMBER: NAHI BTARAHA XD\n"
     ]
    }
   ],
   "source": [
    "print(X)\n",
    "print('NAME:', N)\n",
    "print('FATHER_NAME:', F)\n",
    "print('AGE:', A)\n",
    "print('GENDER:', G)\n",
    "print('ADDRESS:', L)\n",
    "print('CITY_OF_STAY:', C)\n",
    "print('CONTACT_NUMBER:', O)"
   ]
  },
  {
   "cell_type": "code",
   "execution_count": null,
   "metadata": {},
   "outputs": [],
   "source": []
  }
 ],
 "metadata": {
  "kernelspec": {
   "display_name": "Python 3",
   "language": "python",
   "name": "python3"
  },
  "language_info": {
   "codemirror_mode": {
    "name": "ipython",
    "version": 3
   },
   "file_extension": ".py",
   "mimetype": "text/x-python",
   "name": "python",
   "nbconvert_exporter": "python",
   "pygments_lexer": "ipython3",
   "version": "3.7.4"
  }
 },
 "nbformat": 4,
 "nbformat_minor": 2
}
